{
 "cells": [
  {
   "cell_type": "markdown",
   "metadata": {},
   "source": [
    "# Explanatory Data Analysis of Website Advertisement View Data of Nearly New Nautical\n",
    "\n",
    "Nearly New Nautical is a website that allows users to advertise their used boats for sale. The marketing team is preparing a weekly newsletter for boat owners. The newsletter is designed to help sellers to get more views of their boat, as well as stay on top of market trends. The Head of Marketing has laid out an ambitious goal of increasing the number of readers by 75% this year.\n",
    "\n",
    "They would like to take a look at the recent data and learn more about the characteristics of the most viewed boat listings in the last 7 days - is it the most expensive boats that get the most views? Are there common features among the most viewed boats?"
   ]
  },
  {
   "cell_type": "markdown",
   "metadata": {
    "slideshow": {
     "slide_type": "slide"
    }
   },
   "source": [
    "# Importing the Libraries\n",
    "\n",
    "Let's import the necessary libraries for this EDA process. We are going to use `pandas` and `numpy` for data exploration, preprocessing, data wrangling and data analysis. `Matplotlib` and `seaborn` is going to be used for Data visualization. `Requests` library is going to help us to connect with `API` and extract data from `API`."
   ]
  },
  {
   "cell_type": "code",
   "execution_count": 4,
   "metadata": {
    "ExecuteTime": {
     "end_time": "2022-07-02T10:19:41.402506Z",
     "start_time": "2022-07-02T10:19:41.291255Z"
    },
    "slideshow": {
     "slide_type": "fragment"
    }
   },
   "outputs": [],
   "source": [
    "import numpy as np\n",
    "import pandas as pd\n",
    "import matplotlib.pyplot as plt\n",
    "import seaborn as sns\n",
    "\n",
    "import requests"
   ]
  },
  {
   "cell_type": "markdown",
   "metadata": {
    "ExecuteTime": {
     "end_time": "2022-05-06T10:21:35.864633Z",
     "start_time": "2022-05-06T10:21:35.839244Z"
    },
    "slideshow": {
     "slide_type": "slide"
    }
   },
   "source": [
    "# Creating the DataFrame "
   ]
  },
  {
   "cell_type": "code",
   "execution_count": 5,
   "metadata": {
    "ExecuteTime": {
     "end_time": "2022-07-02T10:19:42.761406Z",
     "start_time": "2022-07-02T10:19:42.591251Z"
    },
    "slideshow": {
     "slide_type": "fragment"
    }
   },
   "outputs": [
    {
     "name": "stdout",
     "output_type": "stream",
     "text": [
      " boat_data.csv\r\n",
      " DA+CS+-+Boats+-+Prework.pdf\r\n",
      "'Explanatory Data Analysis of Website Advertisement View Data of Nearly New Nautical.ipynb'\r\n"
     ]
    }
   ],
   "source": [
    "!ls"
   ]
  },
  {
   "cell_type": "code",
   "execution_count": 6,
   "metadata": {
    "ExecuteTime": {
     "end_time": "2022-07-02T10:19:43.368932Z",
     "start_time": "2022-07-02T10:19:43.222647Z"
    },
    "slideshow": {
     "slide_type": "fragment"
    }
   },
   "outputs": [
    {
     "data": {
      "text/html": [
       "<div>\n",
       "<style scoped>\n",
       "    .dataframe tbody tr th:only-of-type {\n",
       "        vertical-align: middle;\n",
       "    }\n",
       "\n",
       "    .dataframe tbody tr th {\n",
       "        vertical-align: top;\n",
       "    }\n",
       "\n",
       "    .dataframe thead th {\n",
       "        text-align: right;\n",
       "    }\n",
       "</style>\n",
       "<table border=\"1\" class=\"dataframe\">\n",
       "  <thead>\n",
       "    <tr style=\"text-align: right;\">\n",
       "      <th></th>\n",
       "      <th>Price</th>\n",
       "      <th>Boat Type</th>\n",
       "      <th>Manufacturer</th>\n",
       "      <th>Type</th>\n",
       "      <th>Year Built</th>\n",
       "      <th>Length</th>\n",
       "      <th>Width</th>\n",
       "      <th>Material</th>\n",
       "      <th>Location</th>\n",
       "      <th>Number of views last 7 days</th>\n",
       "    </tr>\n",
       "  </thead>\n",
       "  <tbody>\n",
       "    <tr>\n",
       "      <th>0</th>\n",
       "      <td>CHF 3337</td>\n",
       "      <td>Motor Yacht</td>\n",
       "      <td>Rigiflex power boats</td>\n",
       "      <td>new boat from stock</td>\n",
       "      <td>2017</td>\n",
       "      <td>4.00</td>\n",
       "      <td>1.90</td>\n",
       "      <td>NaN</td>\n",
       "      <td>Switzerland Â» Lake Geneva Â» VÃ©senaz</td>\n",
       "      <td>226</td>\n",
       "    </tr>\n",
       "    <tr>\n",
       "      <th>1</th>\n",
       "      <td>EUR 3490</td>\n",
       "      <td>Center console boat</td>\n",
       "      <td>Terhi power boats</td>\n",
       "      <td>new boat from stock</td>\n",
       "      <td>2020</td>\n",
       "      <td>4.00</td>\n",
       "      <td>1.50</td>\n",
       "      <td>Thermoplastic</td>\n",
       "      <td>Germany Â» BÃ¶nningstedt</td>\n",
       "      <td>75</td>\n",
       "    </tr>\n",
       "    <tr>\n",
       "      <th>2</th>\n",
       "      <td>CHF 3770</td>\n",
       "      <td>Sport Boat</td>\n",
       "      <td>Marine power boats</td>\n",
       "      <td>new boat from stock</td>\n",
       "      <td>0</td>\n",
       "      <td>3.69</td>\n",
       "      <td>1.42</td>\n",
       "      <td>Aluminium</td>\n",
       "      <td>Switzerland Â» Lake of Zurich Â» StÃ¤fa ZH</td>\n",
       "      <td>124</td>\n",
       "    </tr>\n",
       "    <tr>\n",
       "      <th>3</th>\n",
       "      <td>DKK 25900</td>\n",
       "      <td>Sport Boat</td>\n",
       "      <td>Pioner power boats</td>\n",
       "      <td>new boat from stock</td>\n",
       "      <td>2020</td>\n",
       "      <td>3.00</td>\n",
       "      <td>1.00</td>\n",
       "      <td>NaN</td>\n",
       "      <td>Denmark Â» Svendborg</td>\n",
       "      <td>64</td>\n",
       "    </tr>\n",
       "    <tr>\n",
       "      <th>4</th>\n",
       "      <td>EUR 3399</td>\n",
       "      <td>Fishing Boat</td>\n",
       "      <td>Linder power boats</td>\n",
       "      <td>new boat from stock</td>\n",
       "      <td>2019</td>\n",
       "      <td>3.55</td>\n",
       "      <td>1.46</td>\n",
       "      <td>Aluminium</td>\n",
       "      <td>Germany Â» Bayern Â» MÃ¼nchen</td>\n",
       "      <td>58</td>\n",
       "    </tr>\n",
       "  </tbody>\n",
       "</table>\n",
       "</div>"
      ],
      "text/plain": [
       "       Price            Boat Type          Manufacturer                 Type  \\\n",
       "0   CHF 3337          Motor Yacht  Rigiflex power boats  new boat from stock   \n",
       "1   EUR 3490  Center console boat     Terhi power boats  new boat from stock   \n",
       "2   CHF 3770           Sport Boat    Marine power boats  new boat from stock   \n",
       "3  DKK 25900           Sport Boat    Pioner power boats  new boat from stock   \n",
       "4   EUR 3399         Fishing Boat    Linder power boats  new boat from stock   \n",
       "\n",
       "   Year Built  Length  Width       Material  \\\n",
       "0        2017    4.00   1.90            NaN   \n",
       "1        2020    4.00   1.50  Thermoplastic   \n",
       "2           0    3.69   1.42      Aluminium   \n",
       "3        2020    3.00   1.00            NaN   \n",
       "4        2019    3.55   1.46      Aluminium   \n",
       "\n",
       "                                     Location  Number of views last 7 days  \n",
       "0      Switzerland Â» Lake Geneva Â» VÃ©senaz                          226  \n",
       "1                    Germany Â» BÃ¶nningstedt                           75  \n",
       "2  Switzerland Â» Lake of Zurich Â» StÃ¤fa ZH                          124  \n",
       "3                        Denmark Â» Svendborg                           64  \n",
       "4               Germany Â» Bayern Â» MÃ¼nchen                           58  "
      ]
     },
     "execution_count": 6,
     "metadata": {},
     "output_type": "execute_result"
    }
   ],
   "source": [
    "df = pd.read_csv('boat_data.csv')\n",
    "df.head()"
   ]
  },
  {
   "cell_type": "markdown",
   "metadata": {
    "slideshow": {
     "slide_type": "slide"
    }
   },
   "source": [
    "# Observing the DataFrame\n",
    "\n",
    "From the data we can see that, it has 10 Columns and they are as follows:\n",
    "\n",
    "\n",
    "Column Name|Details\n",
    "--|--\n",
    "Price|Character, boat price listed in different currencies (e.g. EUR, Â£, CHF etc.) on the website\n",
    "Boat Type|Character, type of the boat\n",
    "Manufacturer|Character, manufacturer of the boat\n",
    "Type|Character, condition of the boat and engine type(e.g. Diesel, Unleaded, etc.)\n",
    "Year Built|Numeric, year of the boat built\n",
    "Length|Numeric, length in meter of the boat\n",
    "Width|Numeric, width in meter of the boat\n",
    "Material|Character, material of the boat (e.g. GRP, PVC, etc.)\n",
    "Location|Character, location of the boat is listed\n",
    "Number of views last 7 days|Numeric, number of the views of the list last 7 days\n"
   ]
  },
  {
   "cell_type": "code",
   "execution_count": 7,
   "metadata": {
    "ExecuteTime": {
     "end_time": "2022-07-02T10:19:44.648439Z",
     "start_time": "2022-07-02T10:19:44.570675Z"
    },
    "slideshow": {
     "slide_type": "subslide"
    }
   },
   "outputs": [
    {
     "name": "stdout",
     "output_type": "stream",
     "text": [
      "<class 'pandas.core.frame.DataFrame'>\n",
      "RangeIndex: 9888 entries, 0 to 9887\n",
      "Data columns (total 10 columns):\n",
      " #   Column                       Non-Null Count  Dtype  \n",
      "---  ------                       --------------  -----  \n",
      " 0   Price                        9888 non-null   object \n",
      " 1   Boat Type                    9888 non-null   object \n",
      " 2   Manufacturer                 8550 non-null   object \n",
      " 3   Type                         9882 non-null   object \n",
      " 4   Year Built                   9888 non-null   int64  \n",
      " 5   Length                       9879 non-null   float64\n",
      " 6   Width                        9832 non-null   float64\n",
      " 7   Material                     8139 non-null   object \n",
      " 8   Location                     9852 non-null   object \n",
      " 9   Number of views last 7 days  9888 non-null   int64  \n",
      "dtypes: float64(2), int64(2), object(6)\n",
      "memory usage: 772.6+ KB\n"
     ]
    }
   ],
   "source": [
    "df.info()"
   ]
  },
  {
   "cell_type": "code",
   "execution_count": 8,
   "metadata": {
    "ExecuteTime": {
     "end_time": "2022-07-02T10:19:45.232267Z",
     "start_time": "2022-07-02T10:19:45.140482Z"
    },
    "slideshow": {
     "slide_type": "subslide"
    }
   },
   "outputs": [
    {
     "data": {
      "text/html": [
       "<div>\n",
       "<style scoped>\n",
       "    .dataframe tbody tr th:only-of-type {\n",
       "        vertical-align: middle;\n",
       "    }\n",
       "\n",
       "    .dataframe tbody tr th {\n",
       "        vertical-align: top;\n",
       "    }\n",
       "\n",
       "    .dataframe thead th {\n",
       "        text-align: right;\n",
       "    }\n",
       "</style>\n",
       "<table border=\"1\" class=\"dataframe\">\n",
       "  <thead>\n",
       "    <tr style=\"text-align: right;\">\n",
       "      <th></th>\n",
       "      <th>Year Built</th>\n",
       "      <th>Length</th>\n",
       "      <th>Width</th>\n",
       "      <th>Number of views last 7 days</th>\n",
       "    </tr>\n",
       "  </thead>\n",
       "  <tbody>\n",
       "    <tr>\n",
       "      <th>count</th>\n",
       "      <td>9888.000000</td>\n",
       "      <td>9879.000000</td>\n",
       "      <td>9832.000000</td>\n",
       "      <td>9888.000000</td>\n",
       "    </tr>\n",
       "    <tr>\n",
       "      <th>mean</th>\n",
       "      <td>1893.192860</td>\n",
       "      <td>11.570017</td>\n",
       "      <td>3.520124</td>\n",
       "      <td>149.160801</td>\n",
       "    </tr>\n",
       "    <tr>\n",
       "      <th>std</th>\n",
       "      <td>460.201582</td>\n",
       "      <td>6.002820</td>\n",
       "      <td>1.220534</td>\n",
       "      <td>151.819752</td>\n",
       "    </tr>\n",
       "    <tr>\n",
       "      <th>min</th>\n",
       "      <td>0.000000</td>\n",
       "      <td>1.040000</td>\n",
       "      <td>0.010000</td>\n",
       "      <td>13.000000</td>\n",
       "    </tr>\n",
       "    <tr>\n",
       "      <th>25%</th>\n",
       "      <td>1996.000000</td>\n",
       "      <td>7.470000</td>\n",
       "      <td>2.540000</td>\n",
       "      <td>70.000000</td>\n",
       "    </tr>\n",
       "    <tr>\n",
       "      <th>50%</th>\n",
       "      <td>2007.000000</td>\n",
       "      <td>10.280000</td>\n",
       "      <td>3.330000</td>\n",
       "      <td>108.000000</td>\n",
       "    </tr>\n",
       "    <tr>\n",
       "      <th>75%</th>\n",
       "      <td>2017.000000</td>\n",
       "      <td>13.930000</td>\n",
       "      <td>4.250000</td>\n",
       "      <td>172.000000</td>\n",
       "    </tr>\n",
       "    <tr>\n",
       "      <th>max</th>\n",
       "      <td>2021.000000</td>\n",
       "      <td>100.000000</td>\n",
       "      <td>25.160000</td>\n",
       "      <td>3263.000000</td>\n",
       "    </tr>\n",
       "  </tbody>\n",
       "</table>\n",
       "</div>"
      ],
      "text/plain": [
       "        Year Built       Length        Width  Number of views last 7 days\n",
       "count  9888.000000  9879.000000  9832.000000                  9888.000000\n",
       "mean   1893.192860    11.570017     3.520124                   149.160801\n",
       "std     460.201582     6.002820     1.220534                   151.819752\n",
       "min       0.000000     1.040000     0.010000                    13.000000\n",
       "25%    1996.000000     7.470000     2.540000                    70.000000\n",
       "50%    2007.000000    10.280000     3.330000                   108.000000\n",
       "75%    2017.000000    13.930000     4.250000                   172.000000\n",
       "max    2021.000000   100.000000    25.160000                  3263.000000"
      ]
     },
     "execution_count": 8,
     "metadata": {},
     "output_type": "execute_result"
    }
   ],
   "source": [
    "df.describe()"
   ]
  },
  {
   "cell_type": "markdown",
   "metadata": {},
   "source": [
    "After seeing all the descriptions we can see that the number of `null` values are very small. Besides our primary concern is the `Number of views last 7 days` column and there is no `null` value there. We can say that, we do not have to do anything regarding `null` values."
   ]
  },
  {
   "cell_type": "markdown",
   "metadata": {},
   "source": [
    "# Data Preprocessing\n",
    "\n",
    "At the `Location` and `Price` columns, there are some special characters. To extract actual country location and finding the meaning full currency symbol we have to do data preprocessing."
   ]
  },
  {
   "cell_type": "code",
   "execution_count": 9,
   "metadata": {
    "ExecuteTime": {
     "end_time": "2022-07-02T10:19:47.696829Z",
     "start_time": "2022-07-02T10:19:47.647242Z"
    }
   },
   "outputs": [],
   "source": [
    "location_country = []\n",
    "\n",
    "for x in df.Location:\n",
    "    x = str(x)\n",
    "    if x.find('Â') > 0:\n",
    "        name = x[0:x.find('Â')]\n",
    "        location_country.append(name)\n",
    "    else:\n",
    "        name = x\n",
    "        location_country.append(name)\n",
    "        \n",
    "df['location_country'] = location_country\n",
    "\n",
    "df['location_country'] = df['location_country'].str.strip()"
   ]
  },
  {
   "cell_type": "code",
   "execution_count": 10,
   "metadata": {
    "ExecuteTime": {
     "end_time": "2022-07-02T10:19:48.377946Z",
     "start_time": "2022-07-02T10:19:48.340428Z"
    },
    "scrolled": true
   },
   "outputs": [
    {
     "data": {
      "text/html": [
       "<div>\n",
       "<style scoped>\n",
       "    .dataframe tbody tr th:only-of-type {\n",
       "        vertical-align: middle;\n",
       "    }\n",
       "\n",
       "    .dataframe tbody tr th {\n",
       "        vertical-align: top;\n",
       "    }\n",
       "\n",
       "    .dataframe thead th {\n",
       "        text-align: right;\n",
       "    }\n",
       "</style>\n",
       "<table border=\"1\" class=\"dataframe\">\n",
       "  <thead>\n",
       "    <tr style=\"text-align: right;\">\n",
       "      <th></th>\n",
       "      <th>Price</th>\n",
       "      <th>Boat Type</th>\n",
       "      <th>Manufacturer</th>\n",
       "      <th>Type</th>\n",
       "      <th>Year Built</th>\n",
       "      <th>Length</th>\n",
       "      <th>Width</th>\n",
       "      <th>Material</th>\n",
       "      <th>Location</th>\n",
       "      <th>Number of views last 7 days</th>\n",
       "      <th>location_country</th>\n",
       "    </tr>\n",
       "  </thead>\n",
       "  <tbody>\n",
       "    <tr>\n",
       "      <th>9580</th>\n",
       "      <td>CHF 14900</td>\n",
       "      <td>Motor Yacht</td>\n",
       "      <td>Bayliner power boats</td>\n",
       "      <td>Used boat,Unleaded</td>\n",
       "      <td>1992</td>\n",
       "      <td>7.70</td>\n",
       "      <td>2.46</td>\n",
       "      <td>Plastic</td>\n",
       "      <td>Switzerland Â» Le Landeron (NE)</td>\n",
       "      <td>3263</td>\n",
       "      <td>Switzerland</td>\n",
       "    </tr>\n",
       "    <tr>\n",
       "      <th>8723</th>\n",
       "      <td>CHF 35000</td>\n",
       "      <td>Hardtop</td>\n",
       "      <td>Princess power boats</td>\n",
       "      <td>Used boat,Diesel</td>\n",
       "      <td>1979</td>\n",
       "      <td>11.12</td>\n",
       "      <td>3.88</td>\n",
       "      <td>GRP</td>\n",
       "      <td>Switzerland Â» Neuenburgersee Â» Hauterive</td>\n",
       "      <td>2432</td>\n",
       "      <td>Switzerland</td>\n",
       "    </tr>\n",
       "    <tr>\n",
       "      <th>6211</th>\n",
       "      <td>CHF 125900</td>\n",
       "      <td>Bowrider,Motor Yacht,Sport Boat</td>\n",
       "      <td>Windy power boats</td>\n",
       "      <td>Used boat,Diesel</td>\n",
       "      <td>2002</td>\n",
       "      <td>12.35</td>\n",
       "      <td>3.48</td>\n",
       "      <td>GRP</td>\n",
       "      <td>Switzerland Â» Lago Maggiore Â» 6600 Locarno</td>\n",
       "      <td>2261</td>\n",
       "      <td>Switzerland</td>\n",
       "    </tr>\n",
       "    <tr>\n",
       "      <th>3700</th>\n",
       "      <td>EUR 949000</td>\n",
       "      <td>Hardtop</td>\n",
       "      <td>Pershing power boats</td>\n",
       "      <td>Used boat,Diesel</td>\n",
       "      <td>2009</td>\n",
       "      <td>20.30</td>\n",
       "      <td>5.20</td>\n",
       "      <td>GRP</td>\n",
       "      <td>Neustadt in Holstein (Ostsee)</td>\n",
       "      <td>2154</td>\n",
       "      <td>Neustadt in Holstein (Ostsee)</td>\n",
       "    </tr>\n",
       "    <tr>\n",
       "      <th>308</th>\n",
       "      <td>CHF 19900</td>\n",
       "      <td>Sport Boat</td>\n",
       "      <td>Sea Ray power boats</td>\n",
       "      <td>Used boat,Unleaded</td>\n",
       "      <td>1993</td>\n",
       "      <td>6.14</td>\n",
       "      <td>2.34</td>\n",
       "      <td>Plastic</td>\n",
       "      <td>Switzerland Â» Murtensee Â» Avenches</td>\n",
       "      <td>2026</td>\n",
       "      <td>Switzerland</td>\n",
       "    </tr>\n",
       "  </tbody>\n",
       "</table>\n",
       "</div>"
      ],
      "text/plain": [
       "           Price                        Boat Type          Manufacturer  \\\n",
       "9580   CHF 14900                      Motor Yacht  Bayliner power boats   \n",
       "8723   CHF 35000                          Hardtop  Princess power boats   \n",
       "6211  CHF 125900  Bowrider,Motor Yacht,Sport Boat     Windy power boats   \n",
       "3700  EUR 949000                          Hardtop  Pershing power boats   \n",
       "308    CHF 19900                       Sport Boat   Sea Ray power boats   \n",
       "\n",
       "                    Type  Year Built  Length  Width Material  \\\n",
       "9580  Used boat,Unleaded        1992    7.70   2.46  Plastic   \n",
       "8723    Used boat,Diesel        1979   11.12   3.88      GRP   \n",
       "6211    Used boat,Diesel        2002   12.35   3.48      GRP   \n",
       "3700    Used boat,Diesel        2009   20.30   5.20      GRP   \n",
       "308   Used boat,Unleaded        1993    6.14   2.34  Plastic   \n",
       "\n",
       "                                           Location  \\\n",
       "9580                Switzerland Â» Le Landeron (NE)   \n",
       "8723     Switzerland Â» Neuenburgersee Â» Hauterive   \n",
       "6211  Switzerland Â» Lago Maggiore Â» 6600 Locarno    \n",
       "3700                  Neustadt in Holstein (Ostsee)   \n",
       "308            Switzerland Â» Murtensee Â» Avenches   \n",
       "\n",
       "      Number of views last 7 days               location_country  \n",
       "9580                         3263                    Switzerland  \n",
       "8723                         2432                    Switzerland  \n",
       "6211                         2261                    Switzerland  \n",
       "3700                         2154  Neustadt in Holstein (Ostsee)  \n",
       "308                          2026                    Switzerland  "
      ]
     },
     "execution_count": 10,
     "metadata": {},
     "output_type": "execute_result"
    }
   ],
   "source": [
    "df.sort_values(by='Number of views last 7 days', ascending=False).head()"
   ]
  },
  {
   "cell_type": "code",
   "execution_count": 11,
   "metadata": {
    "ExecuteTime": {
     "end_time": "2022-07-02T10:19:49.528541Z",
     "start_time": "2022-07-02T10:19:49.501857Z"
    }
   },
   "outputs": [
    {
     "data": {
      "text/plain": [
       "Germany               1914\n",
       "Italy                 1793\n",
       "France                1229\n",
       "Switzerland           1112\n",
       "Netherlands           1056\n",
       "Croatia (Hrvatska)     810\n",
       "Spain                  702\n",
       "United Kingdom         215\n",
       "Denmark                172\n",
       "Portugal               135\n",
       "Austria                 88\n",
       "Greece                  83\n",
       "Malta                   72\n",
       "Turkey                  64\n",
       "Belgium                 62\n",
       "Poland                  41\n",
       "Slovenia                39\n",
       "nan                     36\n",
       "Finland                 35\n",
       "Montenegro              22\n",
       "Name: location_country, dtype: int64"
      ]
     },
     "execution_count": 11,
     "metadata": {},
     "output_type": "execute_result"
    }
   ],
   "source": [
    "df['location_country'].value_counts().head(20)"
   ]
  },
  {
   "cell_type": "code",
   "execution_count": 12,
   "metadata": {
    "ExecuteTime": {
     "end_time": "2022-07-02T10:19:51.821997Z",
     "start_time": "2022-07-02T10:19:51.760781Z"
    }
   },
   "outputs": [],
   "source": [
    "df['Price'] = df['Price'].str.replace('Â£ ','GBP ')"
   ]
  },
  {
   "cell_type": "code",
   "execution_count": 13,
   "metadata": {
    "ExecuteTime": {
     "end_time": "2022-07-02T10:19:52.297291Z",
     "start_time": "2022-07-02T10:19:52.278129Z"
    }
   },
   "outputs": [
    {
     "data": {
      "text/plain": [
       "['EUR', 'CHF', 'DKK', 'GBP']"
      ]
     },
     "execution_count": 13,
     "metadata": {},
     "output_type": "execute_result"
    }
   ],
   "source": [
    "currencies = list(set([x[:3] for x in df['Price']]))\n",
    "currencies"
   ]
  },
  {
   "cell_type": "markdown",
   "metadata": {},
   "source": [
    "# Converting currency to the same unit\n",
    "\n",
    "We have prices in different currencies. First we should find out the currency in which most of the listings were done. To do further analysis, it is very important to convert all the price into the same currency. We will use `https://exchangeratesapi.io/` as the currency converting `API`. Then we could go further in the EDA process."
   ]
  },
  {
   "cell_type": "code",
   "execution_count": 14,
   "metadata": {
    "ExecuteTime": {
     "end_time": "2022-07-02T10:19:55.687757Z",
     "start_time": "2022-07-02T10:19:55.669820Z"
    },
    "scrolled": true
   },
   "outputs": [
    {
     "data": {
      "text/html": [
       "<div>\n",
       "<style scoped>\n",
       "    .dataframe tbody tr th:only-of-type {\n",
       "        vertical-align: middle;\n",
       "    }\n",
       "\n",
       "    .dataframe tbody tr th {\n",
       "        vertical-align: top;\n",
       "    }\n",
       "\n",
       "    .dataframe thead th {\n",
       "        text-align: right;\n",
       "    }\n",
       "</style>\n",
       "<table border=\"1\" class=\"dataframe\">\n",
       "  <thead>\n",
       "    <tr style=\"text-align: right;\">\n",
       "      <th></th>\n",
       "      <th>Price</th>\n",
       "      <th>Boat Type</th>\n",
       "      <th>Manufacturer</th>\n",
       "      <th>Type</th>\n",
       "      <th>Year Built</th>\n",
       "      <th>Length</th>\n",
       "      <th>Width</th>\n",
       "      <th>Material</th>\n",
       "      <th>Location</th>\n",
       "      <th>Number of views last 7 days</th>\n",
       "      <th>location_country</th>\n",
       "    </tr>\n",
       "  </thead>\n",
       "  <tbody>\n",
       "    <tr>\n",
       "      <th>0</th>\n",
       "      <td>CHF 3337</td>\n",
       "      <td>Motor Yacht</td>\n",
       "      <td>Rigiflex power boats</td>\n",
       "      <td>new boat from stock</td>\n",
       "      <td>2017</td>\n",
       "      <td>4.00</td>\n",
       "      <td>1.90</td>\n",
       "      <td>NaN</td>\n",
       "      <td>Switzerland Â» Lake Geneva Â» VÃ©senaz</td>\n",
       "      <td>226</td>\n",
       "      <td>Switzerland</td>\n",
       "    </tr>\n",
       "    <tr>\n",
       "      <th>1</th>\n",
       "      <td>EUR 3490</td>\n",
       "      <td>Center console boat</td>\n",
       "      <td>Terhi power boats</td>\n",
       "      <td>new boat from stock</td>\n",
       "      <td>2020</td>\n",
       "      <td>4.00</td>\n",
       "      <td>1.50</td>\n",
       "      <td>Thermoplastic</td>\n",
       "      <td>Germany Â» BÃ¶nningstedt</td>\n",
       "      <td>75</td>\n",
       "      <td>Germany</td>\n",
       "    </tr>\n",
       "    <tr>\n",
       "      <th>2</th>\n",
       "      <td>CHF 3770</td>\n",
       "      <td>Sport Boat</td>\n",
       "      <td>Marine power boats</td>\n",
       "      <td>new boat from stock</td>\n",
       "      <td>0</td>\n",
       "      <td>3.69</td>\n",
       "      <td>1.42</td>\n",
       "      <td>Aluminium</td>\n",
       "      <td>Switzerland Â» Lake of Zurich Â» StÃ¤fa ZH</td>\n",
       "      <td>124</td>\n",
       "      <td>Switzerland</td>\n",
       "    </tr>\n",
       "    <tr>\n",
       "      <th>3</th>\n",
       "      <td>DKK 25900</td>\n",
       "      <td>Sport Boat</td>\n",
       "      <td>Pioner power boats</td>\n",
       "      <td>new boat from stock</td>\n",
       "      <td>2020</td>\n",
       "      <td>3.00</td>\n",
       "      <td>1.00</td>\n",
       "      <td>NaN</td>\n",
       "      <td>Denmark Â» Svendborg</td>\n",
       "      <td>64</td>\n",
       "      <td>Denmark</td>\n",
       "    </tr>\n",
       "    <tr>\n",
       "      <th>4</th>\n",
       "      <td>EUR 3399</td>\n",
       "      <td>Fishing Boat</td>\n",
       "      <td>Linder power boats</td>\n",
       "      <td>new boat from stock</td>\n",
       "      <td>2019</td>\n",
       "      <td>3.55</td>\n",
       "      <td>1.46</td>\n",
       "      <td>Aluminium</td>\n",
       "      <td>Germany Â» Bayern Â» MÃ¼nchen</td>\n",
       "      <td>58</td>\n",
       "      <td>Germany</td>\n",
       "    </tr>\n",
       "  </tbody>\n",
       "</table>\n",
       "</div>"
      ],
      "text/plain": [
       "       Price            Boat Type          Manufacturer                 Type  \\\n",
       "0   CHF 3337          Motor Yacht  Rigiflex power boats  new boat from stock   \n",
       "1   EUR 3490  Center console boat     Terhi power boats  new boat from stock   \n",
       "2   CHF 3770           Sport Boat    Marine power boats  new boat from stock   \n",
       "3  DKK 25900           Sport Boat    Pioner power boats  new boat from stock   \n",
       "4   EUR 3399         Fishing Boat    Linder power boats  new boat from stock   \n",
       "\n",
       "   Year Built  Length  Width       Material  \\\n",
       "0        2017    4.00   1.90            NaN   \n",
       "1        2020    4.00   1.50  Thermoplastic   \n",
       "2           0    3.69   1.42      Aluminium   \n",
       "3        2020    3.00   1.00            NaN   \n",
       "4        2019    3.55   1.46      Aluminium   \n",
       "\n",
       "                                     Location  Number of views last 7 days  \\\n",
       "0      Switzerland Â» Lake Geneva Â» VÃ©senaz                          226   \n",
       "1                    Germany Â» BÃ¶nningstedt                           75   \n",
       "2  Switzerland Â» Lake of Zurich Â» StÃ¤fa ZH                          124   \n",
       "3                        Denmark Â» Svendborg                           64   \n",
       "4               Germany Â» Bayern Â» MÃ¼nchen                           58   \n",
       "\n",
       "  location_country  \n",
       "0      Switzerland  \n",
       "1          Germany  \n",
       "2      Switzerland  \n",
       "3          Denmark  \n",
       "4          Germany  "
      ]
     },
     "execution_count": 14,
     "metadata": {},
     "output_type": "execute_result"
    }
   ],
   "source": [
    "df.head()"
   ]
  },
  {
   "cell_type": "code",
   "execution_count": 15,
   "metadata": {
    "ExecuteTime": {
     "end_time": "2022-07-02T10:19:56.961379Z",
     "start_time": "2022-07-02T10:19:56.912317Z"
    }
   },
   "outputs": [
    {
     "data": {
      "text/html": [
       "<div>\n",
       "<style scoped>\n",
       "    .dataframe tbody tr th:only-of-type {\n",
       "        vertical-align: middle;\n",
       "    }\n",
       "\n",
       "    .dataframe tbody tr th {\n",
       "        vertical-align: top;\n",
       "    }\n",
       "\n",
       "    .dataframe thead th {\n",
       "        text-align: right;\n",
       "    }\n",
       "</style>\n",
       "<table border=\"1\" class=\"dataframe\">\n",
       "  <thead>\n",
       "    <tr style=\"text-align: right;\">\n",
       "      <th></th>\n",
       "      <th>Price</th>\n",
       "      <th>Boat Type</th>\n",
       "      <th>Manufacturer</th>\n",
       "      <th>Type</th>\n",
       "      <th>Year Built</th>\n",
       "      <th>Length</th>\n",
       "      <th>Width</th>\n",
       "      <th>Material</th>\n",
       "      <th>Location</th>\n",
       "      <th>Number of views last 7 days</th>\n",
       "      <th>location_country</th>\n",
       "      <th>price_base</th>\n",
       "      <th>price_amount</th>\n",
       "    </tr>\n",
       "  </thead>\n",
       "  <tbody>\n",
       "    <tr>\n",
       "      <th>0</th>\n",
       "      <td>CHF 3337</td>\n",
       "      <td>Motor Yacht</td>\n",
       "      <td>Rigiflex power boats</td>\n",
       "      <td>new boat from stock</td>\n",
       "      <td>2017</td>\n",
       "      <td>4.00</td>\n",
       "      <td>1.90</td>\n",
       "      <td>NaN</td>\n",
       "      <td>Switzerland Â» Lake Geneva Â» VÃ©senaz</td>\n",
       "      <td>226</td>\n",
       "      <td>Switzerland</td>\n",
       "      <td>CHF</td>\n",
       "      <td>3337.0</td>\n",
       "    </tr>\n",
       "    <tr>\n",
       "      <th>1</th>\n",
       "      <td>EUR 3490</td>\n",
       "      <td>Center console boat</td>\n",
       "      <td>Terhi power boats</td>\n",
       "      <td>new boat from stock</td>\n",
       "      <td>2020</td>\n",
       "      <td>4.00</td>\n",
       "      <td>1.50</td>\n",
       "      <td>Thermoplastic</td>\n",
       "      <td>Germany Â» BÃ¶nningstedt</td>\n",
       "      <td>75</td>\n",
       "      <td>Germany</td>\n",
       "      <td>EUR</td>\n",
       "      <td>3490.0</td>\n",
       "    </tr>\n",
       "    <tr>\n",
       "      <th>2</th>\n",
       "      <td>CHF 3770</td>\n",
       "      <td>Sport Boat</td>\n",
       "      <td>Marine power boats</td>\n",
       "      <td>new boat from stock</td>\n",
       "      <td>0</td>\n",
       "      <td>3.69</td>\n",
       "      <td>1.42</td>\n",
       "      <td>Aluminium</td>\n",
       "      <td>Switzerland Â» Lake of Zurich Â» StÃ¤fa ZH</td>\n",
       "      <td>124</td>\n",
       "      <td>Switzerland</td>\n",
       "      <td>CHF</td>\n",
       "      <td>3770.0</td>\n",
       "    </tr>\n",
       "    <tr>\n",
       "      <th>3</th>\n",
       "      <td>DKK 25900</td>\n",
       "      <td>Sport Boat</td>\n",
       "      <td>Pioner power boats</td>\n",
       "      <td>new boat from stock</td>\n",
       "      <td>2020</td>\n",
       "      <td>3.00</td>\n",
       "      <td>1.00</td>\n",
       "      <td>NaN</td>\n",
       "      <td>Denmark Â» Svendborg</td>\n",
       "      <td>64</td>\n",
       "      <td>Denmark</td>\n",
       "      <td>DKK</td>\n",
       "      <td>25900.0</td>\n",
       "    </tr>\n",
       "    <tr>\n",
       "      <th>4</th>\n",
       "      <td>EUR 3399</td>\n",
       "      <td>Fishing Boat</td>\n",
       "      <td>Linder power boats</td>\n",
       "      <td>new boat from stock</td>\n",
       "      <td>2019</td>\n",
       "      <td>3.55</td>\n",
       "      <td>1.46</td>\n",
       "      <td>Aluminium</td>\n",
       "      <td>Germany Â» Bayern Â» MÃ¼nchen</td>\n",
       "      <td>58</td>\n",
       "      <td>Germany</td>\n",
       "      <td>EUR</td>\n",
       "      <td>3399.0</td>\n",
       "    </tr>\n",
       "  </tbody>\n",
       "</table>\n",
       "</div>"
      ],
      "text/plain": [
       "       Price            Boat Type          Manufacturer                 Type  \\\n",
       "0   CHF 3337          Motor Yacht  Rigiflex power boats  new boat from stock   \n",
       "1   EUR 3490  Center console boat     Terhi power boats  new boat from stock   \n",
       "2   CHF 3770           Sport Boat    Marine power boats  new boat from stock   \n",
       "3  DKK 25900           Sport Boat    Pioner power boats  new boat from stock   \n",
       "4   EUR 3399         Fishing Boat    Linder power boats  new boat from stock   \n",
       "\n",
       "   Year Built  Length  Width       Material  \\\n",
       "0        2017    4.00   1.90            NaN   \n",
       "1        2020    4.00   1.50  Thermoplastic   \n",
       "2           0    3.69   1.42      Aluminium   \n",
       "3        2020    3.00   1.00            NaN   \n",
       "4        2019    3.55   1.46      Aluminium   \n",
       "\n",
       "                                     Location  Number of views last 7 days  \\\n",
       "0      Switzerland Â» Lake Geneva Â» VÃ©senaz                          226   \n",
       "1                    Germany Â» BÃ¶nningstedt                           75   \n",
       "2  Switzerland Â» Lake of Zurich Â» StÃ¤fa ZH                          124   \n",
       "3                        Denmark Â» Svendborg                           64   \n",
       "4               Germany Â» Bayern Â» MÃ¼nchen                           58   \n",
       "\n",
       "  location_country price_base  price_amount  \n",
       "0      Switzerland        CHF        3337.0  \n",
       "1          Germany        EUR        3490.0  \n",
       "2      Switzerland        CHF        3770.0  \n",
       "3          Denmark        DKK       25900.0  \n",
       "4          Germany        EUR        3399.0  "
      ]
     },
     "execution_count": 15,
     "metadata": {},
     "output_type": "execute_result"
    }
   ],
   "source": [
    "df['price_base'] = [x[:3] for x in df.Price]\n",
    "df['price_base'].str.strip()\n",
    "df['price_amount'] = [x[3:] for x in df.Price]\n",
    "df['price_amount'].str.strip()\n",
    "df['price_amount'] = df['price_amount'].astype('float')\n",
    "df.head()"
   ]
  },
  {
   "cell_type": "code",
   "execution_count": 16,
   "metadata": {
    "ExecuteTime": {
     "end_time": "2022-07-02T10:19:59.766027Z",
     "start_time": "2022-07-02T10:19:59.705455Z"
    }
   },
   "outputs": [
    {
     "name": "stdout",
     "output_type": "stream",
     "text": [
      "<class 'pandas.core.frame.DataFrame'>\n",
      "RangeIndex: 9888 entries, 0 to 9887\n",
      "Data columns (total 13 columns):\n",
      " #   Column                       Non-Null Count  Dtype  \n",
      "---  ------                       --------------  -----  \n",
      " 0   Price                        9888 non-null   object \n",
      " 1   Boat Type                    9888 non-null   object \n",
      " 2   Manufacturer                 8550 non-null   object \n",
      " 3   Type                         9882 non-null   object \n",
      " 4   Year Built                   9888 non-null   int64  \n",
      " 5   Length                       9879 non-null   float64\n",
      " 6   Width                        9832 non-null   float64\n",
      " 7   Material                     8139 non-null   object \n",
      " 8   Location                     9852 non-null   object \n",
      " 9   Number of views last 7 days  9888 non-null   int64  \n",
      " 10  location_country             9888 non-null   object \n",
      " 11  price_base                   9888 non-null   object \n",
      " 12  price_amount                 9888 non-null   float64\n",
      "dtypes: float64(3), int64(2), object(8)\n",
      "memory usage: 1004.4+ KB\n"
     ]
    }
   ],
   "source": [
    "df.info()"
   ]
  },
  {
   "cell_type": "code",
   "execution_count": 17,
   "metadata": {
    "ExecuteTime": {
     "end_time": "2022-07-02T10:20:00.825338Z",
     "start_time": "2022-07-02T10:20:00.505285Z"
    }
   },
   "outputs": [
    {
     "data": {
      "text/html": [
       "<div>\n",
       "<style scoped>\n",
       "    .dataframe tbody tr th:only-of-type {\n",
       "        vertical-align: middle;\n",
       "    }\n",
       "\n",
       "    .dataframe tbody tr th {\n",
       "        vertical-align: top;\n",
       "    }\n",
       "\n",
       "    .dataframe thead th {\n",
       "        text-align: right;\n",
       "    }\n",
       "</style>\n",
       "<table border=\"1\" class=\"dataframe\">\n",
       "  <thead>\n",
       "    <tr style=\"text-align: right;\">\n",
       "      <th></th>\n",
       "      <th>0</th>\n",
       "    </tr>\n",
       "  </thead>\n",
       "  <tbody>\n",
       "    <tr>\n",
       "      <th>top</th>\n",
       "      <td>EUR</td>\n",
       "    </tr>\n",
       "    <tr>\n",
       "      <th>freq</th>\n",
       "      <td>8430</td>\n",
       "    </tr>\n",
       "  </tbody>\n",
       "</table>\n",
       "</div>"
      ],
      "text/plain": [
       "         0\n",
       "top    EUR\n",
       "freq  8430"
      ]
     },
     "execution_count": 17,
     "metadata": {},
     "output_type": "execute_result"
    }
   ],
   "source": [
    "pd.DataFrame([x[:3] for x in df['Price']]).describe().loc[['top','freq']]"
   ]
  },
  {
   "cell_type": "markdown",
   "metadata": {},
   "source": [
    "From here, it is possible to say that most of the observation in this data set has the price in Euro and it would be better to convert all the prices into Euro so that it becomes more easy to do analysis price wise."
   ]
  },
  {
   "cell_type": "code",
   "execution_count": 18,
   "metadata": {
    "ExecuteTime": {
     "end_time": "2022-07-02T10:20:20.203793Z",
     "start_time": "2022-07-02T10:20:19.816035Z"
    }
   },
   "outputs": [
    {
     "data": {
      "text/plain": [
       "{'EUR': 1, 'CHF': 1.000126, 'DKK': 7.439483, 'GBP': 0.86151}"
      ]
     },
     "execution_count": 18,
     "metadata": {},
     "output_type": "execute_result"
    }
   ],
   "source": [
    "url = 'http://api.exchangeratesapi.io/v1/latest?access_key=af2c9657285fdfcd6d22d2d160986aef'\n",
    "response = requests.get(url)\n",
    "rates_base_on_euros = response.json()['rates']\n",
    "rate_base = response.json()['base']\n",
    "exchange_rates = {x:rates_base_on_euros[x] for x in currencies}\n",
    "exchange_rates"
   ]
  },
  {
   "cell_type": "code",
   "execution_count": 19,
   "metadata": {
    "ExecuteTime": {
     "end_time": "2022-07-02T10:20:25.743922Z",
     "start_time": "2022-07-02T10:20:25.541993Z"
    }
   },
   "outputs": [
    {
     "data": {
      "text/html": [
       "<div>\n",
       "<style scoped>\n",
       "    .dataframe tbody tr th:only-of-type {\n",
       "        vertical-align: middle;\n",
       "    }\n",
       "\n",
       "    .dataframe tbody tr th {\n",
       "        vertical-align: top;\n",
       "    }\n",
       "\n",
       "    .dataframe thead th {\n",
       "        text-align: right;\n",
       "    }\n",
       "</style>\n",
       "<table border=\"1\" class=\"dataframe\">\n",
       "  <thead>\n",
       "    <tr style=\"text-align: right;\">\n",
       "      <th></th>\n",
       "      <th>Price</th>\n",
       "      <th>Boat Type</th>\n",
       "      <th>Manufacturer</th>\n",
       "      <th>Type</th>\n",
       "      <th>Year Built</th>\n",
       "      <th>Length</th>\n",
       "      <th>Width</th>\n",
       "      <th>Material</th>\n",
       "      <th>Location</th>\n",
       "      <th>Number of views last 7 days</th>\n",
       "      <th>location_country</th>\n",
       "      <th>price_base</th>\n",
       "      <th>price_amount</th>\n",
       "      <th>price_amount_in_euro</th>\n",
       "    </tr>\n",
       "  </thead>\n",
       "  <tbody>\n",
       "    <tr>\n",
       "      <th>0</th>\n",
       "      <td>CHF 3337</td>\n",
       "      <td>Motor Yacht</td>\n",
       "      <td>Rigiflex power boats</td>\n",
       "      <td>new boat from stock</td>\n",
       "      <td>2017</td>\n",
       "      <td>4.00</td>\n",
       "      <td>1.90</td>\n",
       "      <td>NaN</td>\n",
       "      <td>Switzerland Â» Lake Geneva Â» VÃ©senaz</td>\n",
       "      <td>226</td>\n",
       "      <td>Switzerland</td>\n",
       "      <td>CHF</td>\n",
       "      <td>3337.0</td>\n",
       "      <td>3337.420462</td>\n",
       "    </tr>\n",
       "    <tr>\n",
       "      <th>1</th>\n",
       "      <td>EUR 3490</td>\n",
       "      <td>Center console boat</td>\n",
       "      <td>Terhi power boats</td>\n",
       "      <td>new boat from stock</td>\n",
       "      <td>2020</td>\n",
       "      <td>4.00</td>\n",
       "      <td>1.50</td>\n",
       "      <td>Thermoplastic</td>\n",
       "      <td>Germany Â» BÃ¶nningstedt</td>\n",
       "      <td>75</td>\n",
       "      <td>Germany</td>\n",
       "      <td>EUR</td>\n",
       "      <td>3490.0</td>\n",
       "      <td>3490.000000</td>\n",
       "    </tr>\n",
       "    <tr>\n",
       "      <th>2</th>\n",
       "      <td>CHF 3770</td>\n",
       "      <td>Sport Boat</td>\n",
       "      <td>Marine power boats</td>\n",
       "      <td>new boat from stock</td>\n",
       "      <td>0</td>\n",
       "      <td>3.69</td>\n",
       "      <td>1.42</td>\n",
       "      <td>Aluminium</td>\n",
       "      <td>Switzerland Â» Lake of Zurich Â» StÃ¤fa ZH</td>\n",
       "      <td>124</td>\n",
       "      <td>Switzerland</td>\n",
       "      <td>CHF</td>\n",
       "      <td>3770.0</td>\n",
       "      <td>3770.475020</td>\n",
       "    </tr>\n",
       "    <tr>\n",
       "      <th>3</th>\n",
       "      <td>DKK 25900</td>\n",
       "      <td>Sport Boat</td>\n",
       "      <td>Pioner power boats</td>\n",
       "      <td>new boat from stock</td>\n",
       "      <td>2020</td>\n",
       "      <td>3.00</td>\n",
       "      <td>1.00</td>\n",
       "      <td>NaN</td>\n",
       "      <td>Denmark Â» Svendborg</td>\n",
       "      <td>64</td>\n",
       "      <td>Denmark</td>\n",
       "      <td>DKK</td>\n",
       "      <td>25900.0</td>\n",
       "      <td>192682.609700</td>\n",
       "    </tr>\n",
       "    <tr>\n",
       "      <th>4</th>\n",
       "      <td>EUR 3399</td>\n",
       "      <td>Fishing Boat</td>\n",
       "      <td>Linder power boats</td>\n",
       "      <td>new boat from stock</td>\n",
       "      <td>2019</td>\n",
       "      <td>3.55</td>\n",
       "      <td>1.46</td>\n",
       "      <td>Aluminium</td>\n",
       "      <td>Germany Â» Bayern Â» MÃ¼nchen</td>\n",
       "      <td>58</td>\n",
       "      <td>Germany</td>\n",
       "      <td>EUR</td>\n",
       "      <td>3399.0</td>\n",
       "      <td>3399.000000</td>\n",
       "    </tr>\n",
       "  </tbody>\n",
       "</table>\n",
       "</div>"
      ],
      "text/plain": [
       "       Price            Boat Type          Manufacturer                 Type  \\\n",
       "0   CHF 3337          Motor Yacht  Rigiflex power boats  new boat from stock   \n",
       "1   EUR 3490  Center console boat     Terhi power boats  new boat from stock   \n",
       "2   CHF 3770           Sport Boat    Marine power boats  new boat from stock   \n",
       "3  DKK 25900           Sport Boat    Pioner power boats  new boat from stock   \n",
       "4   EUR 3399         Fishing Boat    Linder power boats  new boat from stock   \n",
       "\n",
       "   Year Built  Length  Width       Material  \\\n",
       "0        2017    4.00   1.90            NaN   \n",
       "1        2020    4.00   1.50  Thermoplastic   \n",
       "2           0    3.69   1.42      Aluminium   \n",
       "3        2020    3.00   1.00            NaN   \n",
       "4        2019    3.55   1.46      Aluminium   \n",
       "\n",
       "                                     Location  Number of views last 7 days  \\\n",
       "0      Switzerland Â» Lake Geneva Â» VÃ©senaz                          226   \n",
       "1                    Germany Â» BÃ¶nningstedt                           75   \n",
       "2  Switzerland Â» Lake of Zurich Â» StÃ¤fa ZH                          124   \n",
       "3                        Denmark Â» Svendborg                           64   \n",
       "4               Germany Â» Bayern Â» MÃ¼nchen                           58   \n",
       "\n",
       "  location_country price_base  price_amount  price_amount_in_euro  \n",
       "0      Switzerland        CHF        3337.0           3337.420462  \n",
       "1          Germany        EUR        3490.0           3490.000000  \n",
       "2      Switzerland        CHF        3770.0           3770.475020  \n",
       "3          Denmark        DKK       25900.0         192682.609700  \n",
       "4          Germany        EUR        3399.0           3399.000000  "
      ]
     },
     "execution_count": 19,
     "metadata": {},
     "output_type": "execute_result"
    }
   ],
   "source": [
    "df['price_amount_in_euro'] = [df['price_amount'].iloc[x]*(exchange_rates[(df['price_base'].iloc[x])]) for x in range(len(df['price_amount']))]\n",
    "df.head()"
   ]
  },
  {
   "cell_type": "markdown",
   "metadata": {},
   "source": [
    "# Finding the search relation based on Price\n",
    "\n",
    "For any kind of sells and marketing price plays a vital role."
   ]
  },
  {
   "cell_type": "code",
   "execution_count": 17,
   "metadata": {
    "ExecuteTime": {
     "end_time": "2022-05-07T20:25:28.108141Z",
     "start_time": "2022-05-07T20:25:27.638394Z"
    },
    "scrolled": false
   },
   "outputs": [
    {
     "data": {
      "image/png": "[encoded data removed]",
      "text/plain": [
       "<Figure size 1080x576 with 2 Axes>"
      ]
     },
     "metadata": {
      "needs_background": "light"
     },
     "output_type": "display_data"
    }
   ],
   "source": [
    "fig = plt.figure()\n",
    "fig.set_size_inches([15,8])\n",
    "ax1 = fig.add_subplot(211)\n",
    "ax2 = fig.add_subplot(212)\n",
    "\n",
    "sns.scatterplot(x = 'price_amount_in_euro',\n",
    "            y = 'Number of views last 7 days',\n",
    "            data = df,\n",
    "            ax =ax1)\n",
    "ax1.title.set_text('Scatter Plot')\n",
    "\n",
    "sns.histplot(x = 'price_amount_in_euro',\n",
    "            y = 'Number of views last 7 days',\n",
    "            data = df,\n",
    "            bins = 5,\n",
    "            ax = ax2)\n",
    "ax2.title.set_text('Histogram')\n",
    "\n",
    "fig.tight_layout()"
   ]
  },
  {
   "cell_type": "markdown",
   "metadata": {},
   "source": [
    "# Additional Analysis"
   ]
  },
  {
   "cell_type": "code",
   "execution_count": 19,
   "metadata": {
    "ExecuteTime": {
     "end_time": "2022-05-07T20:25:55.775298Z",
     "start_time": "2022-05-07T20:25:55.765202Z"
    }
   },
   "outputs": [
    {
     "data": {
      "text/plain": [
       "1474902"
      ]
     },
     "execution_count": 19,
     "metadata": {},
     "output_type": "execute_result"
    }
   ],
   "source": [
    "df['Number of views last 7 days'].sum()"
   ]
  },
  {
   "cell_type": "code",
   "execution_count": 139,
   "metadata": {
    "ExecuteTime": {
     "end_time": "2022-05-06T17:35:50.740630Z",
     "start_time": "2022-05-06T17:35:50.690680Z"
    }
   },
   "outputs": [
    {
     "data": {
      "text/html": [
       "<div>\n",
       "<style scoped>\n",
       "    .dataframe tbody tr th:only-of-type {\n",
       "        vertical-align: middle;\n",
       "    }\n",
       "\n",
       "    .dataframe tbody tr th {\n",
       "        vertical-align: top;\n",
       "    }\n",
       "\n",
       "    .dataframe thead th {\n",
       "        text-align: right;\n",
       "    }\n",
       "</style>\n",
       "<table border=\"1\" class=\"dataframe\">\n",
       "  <thead>\n",
       "    <tr style=\"text-align: right;\">\n",
       "      <th></th>\n",
       "      <th>Manufacturer</th>\n",
       "      <th>Boat Type</th>\n",
       "      <th>Type</th>\n",
       "      <th>Material</th>\n",
       "      <th>Country of Location</th>\n",
       "    </tr>\n",
       "  </thead>\n",
       "  <tbody>\n",
       "    <tr>\n",
       "      <th>0</th>\n",
       "      <td>BÃ©nÃ©teau power boats</td>\n",
       "      <td>Motor Yacht</td>\n",
       "      <td>Used boat,Diesel</td>\n",
       "      <td>GRP</td>\n",
       "      <td>Germany</td>\n",
       "    </tr>\n",
       "    <tr>\n",
       "      <th>1</th>\n",
       "      <td>Jeanneau power boats</td>\n",
       "      <td>Sport Boat</td>\n",
       "      <td>Used boat,Unleaded</td>\n",
       "      <td>PVC</td>\n",
       "      <td>Italy</td>\n",
       "    </tr>\n",
       "    <tr>\n",
       "      <th>2</th>\n",
       "      <td>Sunseeker power boats</td>\n",
       "      <td>Flybridge</td>\n",
       "      <td>Used boat</td>\n",
       "      <td>Steel</td>\n",
       "      <td>France</td>\n",
       "    </tr>\n",
       "    <tr>\n",
       "      <th>3</th>\n",
       "      <td>Princess power boats</td>\n",
       "      <td>Trawler</td>\n",
       "      <td>new boat from stock,Unleaded</td>\n",
       "      <td>Wood</td>\n",
       "      <td>Switzerland</td>\n",
       "    </tr>\n",
       "    <tr>\n",
       "      <th>4</th>\n",
       "      <td>Sea Ray power boats</td>\n",
       "      <td>Pilothouse</td>\n",
       "      <td>new boat from stock</td>\n",
       "      <td>Aluminium</td>\n",
       "      <td>Netherlands</td>\n",
       "    </tr>\n",
       "    <tr>\n",
       "      <th>5</th>\n",
       "      <td>Cranchi power boats</td>\n",
       "      <td>Cabin Boat</td>\n",
       "      <td>new boat from stock,Diesel</td>\n",
       "      <td>Plastic</td>\n",
       "      <td>Croatia (Hrvatska)</td>\n",
       "    </tr>\n",
       "    <tr>\n",
       "      <th>6</th>\n",
       "      <td>Azimut power boats</td>\n",
       "      <td>Hardtop</td>\n",
       "      <td>new boat on order,Unleaded</td>\n",
       "      <td>Carbon Fiber</td>\n",
       "      <td>Spain</td>\n",
       "    </tr>\n",
       "    <tr>\n",
       "      <th>7</th>\n",
       "      <td>Bavaria power boats</td>\n",
       "      <td>Center console boat</td>\n",
       "      <td>Display Model,Unleaded</td>\n",
       "      <td>Thermoplastic</td>\n",
       "      <td>United Kingdom</td>\n",
       "    </tr>\n",
       "    <tr>\n",
       "      <th>8</th>\n",
       "      <td>Fairline power boats</td>\n",
       "      <td>Bowrider</td>\n",
       "      <td>new boat on order</td>\n",
       "      <td>Hypalon</td>\n",
       "      <td>Denmark</td>\n",
       "    </tr>\n",
       "    <tr>\n",
       "      <th>9</th>\n",
       "      <td>Quicksilver (Brunswick Marine) power boats</td>\n",
       "      <td>Deck Boat</td>\n",
       "      <td>new boat on order,Diesel</td>\n",
       "      <td>Reinforced concrete</td>\n",
       "      <td>Portugal</td>\n",
       "    </tr>\n",
       "  </tbody>\n",
       "</table>\n",
       "</div>"
      ],
      "text/plain": [
       "                                 Manufacturer            Boat Type  \\\n",
       "0                      BÃ©nÃ©teau power boats          Motor Yacht   \n",
       "1                        Jeanneau power boats           Sport Boat   \n",
       "2                       Sunseeker power boats            Flybridge   \n",
       "3                        Princess power boats              Trawler   \n",
       "4                         Sea Ray power boats           Pilothouse   \n",
       "5                         Cranchi power boats           Cabin Boat   \n",
       "6                          Azimut power boats              Hardtop   \n",
       "7                         Bavaria power boats  Center console boat   \n",
       "8                        Fairline power boats             Bowrider   \n",
       "9  Quicksilver (Brunswick Marine) power boats            Deck Boat   \n",
       "\n",
       "                           Type             Material Country of Location  \n",
       "0              Used boat,Diesel                  GRP             Germany  \n",
       "1            Used boat,Unleaded                  PVC               Italy  \n",
       "2                     Used boat                Steel              France  \n",
       "3  new boat from stock,Unleaded                 Wood         Switzerland  \n",
       "4           new boat from stock            Aluminium         Netherlands  \n",
       "5    new boat from stock,Diesel              Plastic  Croatia (Hrvatska)  \n",
       "6    new boat on order,Unleaded         Carbon Fiber               Spain  \n",
       "7        Display Model,Unleaded        Thermoplastic      United Kingdom  \n",
       "8             new boat on order              Hypalon             Denmark  \n",
       "9      new boat on order,Diesel  Reinforced concrete            Portugal  "
      ]
     },
     "execution_count": 139,
     "metadata": {},
     "output_type": "execute_result"
    }
   ],
   "source": [
    "top_10_searched = {\n",
    "    'Manufacturer' : df['Manufacturer'].value_counts().index[:10],\n",
    "    'Boat Type'    : df['Boat Type'].value_counts().index[:10],\n",
    "    'Type'               : df['Type'].value_counts().index[:10],\n",
    "    'Material'            : df['Material'].value_counts().index[:10],\n",
    "    'Country of Location' : df['location_country'].value_counts().index[:10],\n",
    "}\n",
    "top_10_searched_df = pd.DataFrame(top_10_searched)\n",
    "top_10_searched_df"
   ]
  },
  {
   "cell_type": "code",
   "execution_count": 140,
   "metadata": {
    "ExecuteTime": {
     "end_time": "2022-05-06T17:35:51.448257Z",
     "start_time": "2022-05-06T17:35:51.420293Z"
    }
   },
   "outputs": [
    {
     "data": {
      "text/plain": [
       "BÃ©nÃ©teau power boats                        631\n",
       "Jeanneau power boats                          537\n",
       "Sunseeker power boats                         383\n",
       "Princess power boats                          241\n",
       "Sea Ray power boats                           239\n",
       "Cranchi power boats                           219\n",
       "Azimut power boats                            215\n",
       "Bavaria power boats                           185\n",
       "Fairline power boats                          172\n",
       "Quicksilver (Brunswick Marine) power boats    167\n",
       "Name: Manufacturer, dtype: int64"
      ]
     },
     "execution_count": 140,
     "metadata": {},
     "output_type": "execute_result"
    }
   ],
   "source": [
    "df['Manufacturer'].value_counts().head(10)"
   ]
  },
  {
   "cell_type": "code",
   "execution_count": 141,
   "metadata": {
    "ExecuteTime": {
     "end_time": "2022-05-06T17:35:54.030863Z",
     "start_time": "2022-05-06T17:35:53.999832Z"
    }
   },
   "outputs": [
    {
     "data": {
      "text/plain": [
       "Motor Yacht            2720\n",
       "Sport Boat             1407\n",
       "Flybridge              1194\n",
       "Trawler                 679\n",
       "Pilothouse              613\n",
       "Cabin Boat              585\n",
       "Hardtop                 507\n",
       "Center console boat     369\n",
       "Bowrider                301\n",
       "Deck Boat               283\n",
       "Name: Boat Type, dtype: int64"
      ]
     },
     "execution_count": 141,
     "metadata": {},
     "output_type": "execute_result"
    }
   ],
   "source": [
    "df['Boat Type'].value_counts().head(10)"
   ]
  },
  {
   "cell_type": "code",
   "execution_count": 142,
   "metadata": {
    "ExecuteTime": {
     "end_time": "2022-05-06T17:35:54.853656Z",
     "start_time": "2022-05-06T17:35:54.826000Z"
    }
   },
   "outputs": [
    {
     "data": {
      "text/plain": [
       "Used boat,Diesel                4140\n",
       "Used boat,Unleaded              1686\n",
       "Used boat                       1462\n",
       "new boat from stock,Unleaded    1107\n",
       "new boat from stock              665\n",
       "new boat from stock,Diesel       291\n",
       "new boat on order,Unleaded       150\n",
       "Display Model,Unleaded            75\n",
       "new boat on order                 61\n",
       "new boat on order,Diesel          61\n",
       "Name: Type, dtype: int64"
      ]
     },
     "execution_count": 142,
     "metadata": {},
     "output_type": "execute_result"
    }
   ],
   "source": [
    "df['Type'].value_counts().head(10)"
   ]
  },
  {
   "cell_type": "code",
   "execution_count": 143,
   "metadata": {
    "ExecuteTime": {
     "end_time": "2022-05-06T17:35:55.335524Z",
     "start_time": "2022-05-06T17:35:55.312569Z"
    }
   },
   "outputs": [
    {
     "data": {
      "text/plain": [
       "GRP                    5484\n",
       "PVC                    1123\n",
       "Steel                   939\n",
       "Wood                    235\n",
       "Aluminium               229\n",
       "Plastic                  77\n",
       "Carbon Fiber             30\n",
       "Thermoplastic            15\n",
       "Hypalon                   5\n",
       "Reinforced concrete       1\n",
       "Name: Material, dtype: int64"
      ]
     },
     "execution_count": 143,
     "metadata": {},
     "output_type": "execute_result"
    }
   ],
   "source": [
    "df['Material'].value_counts().head(10)"
   ]
  },
  {
   "cell_type": "code",
   "execution_count": 144,
   "metadata": {
    "ExecuteTime": {
     "end_time": "2022-05-06T17:35:55.730857Z",
     "start_time": "2022-05-06T17:35:55.721260Z"
    }
   },
   "outputs": [
    {
     "data": {
      "text/plain": [
       "Germany               1914\n",
       "Italy                 1793\n",
       "France                1229\n",
       "Switzerland           1112\n",
       "Netherlands           1056\n",
       "Croatia (Hrvatska)     810\n",
       "Spain                  702\n",
       "United Kingdom         215\n",
       "Denmark                172\n",
       "Portugal               135\n",
       "Name: location_country, dtype: int64"
      ]
     },
     "execution_count": 144,
     "metadata": {},
     "output_type": "execute_result"
    }
   ],
   "source": [
    "df['location_country'].value_counts().head(10)"
   ]
  },
  {
   "cell_type": "code",
   "execution_count": 145,
   "metadata": {
    "ExecuteTime": {
     "end_time": "2022-05-06T17:35:59.333780Z",
     "start_time": "2022-05-06T17:35:57.561485Z"
    }
   },
   "outputs": [
    {
     "data": {
      "image/png": "[encoded data removed]",
      "text/plain": [
       "<Figure size 1080x1800 with 5 Axes>"
      ]
     },
     "metadata": {
      "needs_background": "light"
     },
     "output_type": "display_data"
    }
   ],
   "source": [
    "fig = plt.figure()\n",
    "fig.set_size_inches([15,25])\n",
    "\n",
    "\n",
    "ax1 = fig.add_subplot(313)\n",
    "sns.barplot(x = df['location_country'].value_counts().index[:10],\n",
    "            y= df['location_country'].value_counts().values[:10],\n",
    "            ax = ax1)\n",
    "ax1.title.set_text('Country of Location')\n",
    "\n",
    "\n",
    "ax2 = fig.add_subplot(321)\n",
    "sns.barplot(x = df['Manufacturer'].value_counts().index[:10],\n",
    "            y= df['Manufacturer'].value_counts().values[:10],\n",
    "            ax = ax2)\n",
    "ax2.title.set_text('Manufacturer')\n",
    "ax2.tick_params('x', labelrotation=90)\n",
    "\n",
    "ax3 = fig.add_subplot(322)\n",
    "sns.barplot(x = df['Boat Type'].value_counts().index[:10],\n",
    "            y= df['Boat Type'].value_counts().values[:10],\n",
    "            ax =ax3)\n",
    "ax3.title.set_text('Boat Type')\n",
    "ax3.tick_params('x', labelrotation=90)\n",
    "\n",
    "ax4 = fig.add_subplot(323)\n",
    "sns.barplot(x = df['Type'].value_counts().index[:10],\n",
    "            y= df['Type'].value_counts().values[:10],\n",
    "            ax = ax4)\n",
    "ax4.title.set_text('Type')\n",
    "ax4.tick_params('x', labelrotation=90)\n",
    "\n",
    "ax5 = fig.add_subplot(324)\n",
    "sns.barplot(x = df['Material'].value_counts().index[:10],\n",
    "            y= df['Material'].value_counts().values[:10],\n",
    "            ax = ax5)\n",
    "ax5.title.set_text('Material')\n",
    "ax5.tick_params('x', labelrotation=90)\n",
    "\n",
    "fig.tight_layout()"
   ]
  },
  {
   "cell_type": "markdown",
   "metadata": {},
   "source": [
    "# Let's Find Out The Pattern"
   ]
  },
  {
   "cell_type": "code",
   "execution_count": 146,
   "metadata": {
    "ExecuteTime": {
     "end_time": "2022-05-06T17:36:05.259435Z",
     "start_time": "2022-05-06T17:36:05.241484Z"
    }
   },
   "outputs": [],
   "source": [
    "top_10_searched_df['Country of Location'] = top_10_searched_df['Country of Location'].str.strip()\n",
    "df['location_country'] = df['location_country'].str.strip()"
   ]
  },
  {
   "cell_type": "code",
   "execution_count": 147,
   "metadata": {
    "ExecuteTime": {
     "end_time": "2022-05-06T17:36:06.844156Z",
     "start_time": "2022-05-06T17:36:06.820926Z"
    }
   },
   "outputs": [
    {
     "data": {
      "text/html": [
       "<div>\n",
       "<style scoped>\n",
       "    .dataframe tbody tr th:only-of-type {\n",
       "        vertical-align: middle;\n",
       "    }\n",
       "\n",
       "    .dataframe tbody tr th {\n",
       "        vertical-align: top;\n",
       "    }\n",
       "\n",
       "    .dataframe thead th {\n",
       "        text-align: right;\n",
       "    }\n",
       "</style>\n",
       "<table border=\"1\" class=\"dataframe\">\n",
       "  <thead>\n",
       "    <tr style=\"text-align: right;\">\n",
       "      <th></th>\n",
       "      <th>Manufacturer</th>\n",
       "      <th>Boat Type</th>\n",
       "      <th>Type</th>\n",
       "      <th>Material</th>\n",
       "      <th>Country of Location</th>\n",
       "    </tr>\n",
       "  </thead>\n",
       "  <tbody>\n",
       "    <tr>\n",
       "      <th>0</th>\n",
       "      <td>BÃ©nÃ©teau power boats</td>\n",
       "      <td>Motor Yacht</td>\n",
       "      <td>Used boat,Diesel</td>\n",
       "      <td>GRP</td>\n",
       "      <td>Germany</td>\n",
       "    </tr>\n",
       "    <tr>\n",
       "      <th>1</th>\n",
       "      <td>Jeanneau power boats</td>\n",
       "      <td>Sport Boat</td>\n",
       "      <td>Used boat,Unleaded</td>\n",
       "      <td>PVC</td>\n",
       "      <td>Italy</td>\n",
       "    </tr>\n",
       "    <tr>\n",
       "      <th>2</th>\n",
       "      <td>Sunseeker power boats</td>\n",
       "      <td>Flybridge</td>\n",
       "      <td>Used boat</td>\n",
       "      <td>Steel</td>\n",
       "      <td>France</td>\n",
       "    </tr>\n",
       "    <tr>\n",
       "      <th>3</th>\n",
       "      <td>Princess power boats</td>\n",
       "      <td>Trawler</td>\n",
       "      <td>new boat from stock,Unleaded</td>\n",
       "      <td>Wood</td>\n",
       "      <td>Switzerland</td>\n",
       "    </tr>\n",
       "    <tr>\n",
       "      <th>4</th>\n",
       "      <td>Sea Ray power boats</td>\n",
       "      <td>Pilothouse</td>\n",
       "      <td>new boat from stock</td>\n",
       "      <td>Aluminium</td>\n",
       "      <td>Netherlands</td>\n",
       "    </tr>\n",
       "    <tr>\n",
       "      <th>5</th>\n",
       "      <td>Cranchi power boats</td>\n",
       "      <td>Cabin Boat</td>\n",
       "      <td>new boat from stock,Diesel</td>\n",
       "      <td>Plastic</td>\n",
       "      <td>Croatia (Hrvatska)</td>\n",
       "    </tr>\n",
       "    <tr>\n",
       "      <th>6</th>\n",
       "      <td>Azimut power boats</td>\n",
       "      <td>Hardtop</td>\n",
       "      <td>new boat on order,Unleaded</td>\n",
       "      <td>Carbon Fiber</td>\n",
       "      <td>Spain</td>\n",
       "    </tr>\n",
       "    <tr>\n",
       "      <th>7</th>\n",
       "      <td>Bavaria power boats</td>\n",
       "      <td>Center console boat</td>\n",
       "      <td>Display Model,Unleaded</td>\n",
       "      <td>Thermoplastic</td>\n",
       "      <td>United Kingdom</td>\n",
       "    </tr>\n",
       "    <tr>\n",
       "      <th>8</th>\n",
       "      <td>Fairline power boats</td>\n",
       "      <td>Bowrider</td>\n",
       "      <td>new boat on order</td>\n",
       "      <td>Hypalon</td>\n",
       "      <td>Denmark</td>\n",
       "    </tr>\n",
       "    <tr>\n",
       "      <th>9</th>\n",
       "      <td>Quicksilver (Brunswick Marine) power boats</td>\n",
       "      <td>Deck Boat</td>\n",
       "      <td>new boat on order,Diesel</td>\n",
       "      <td>Reinforced concrete</td>\n",
       "      <td>Portugal</td>\n",
       "    </tr>\n",
       "  </tbody>\n",
       "</table>\n",
       "</div>"
      ],
      "text/plain": [
       "                                 Manufacturer            Boat Type  \\\n",
       "0                      BÃ©nÃ©teau power boats          Motor Yacht   \n",
       "1                        Jeanneau power boats           Sport Boat   \n",
       "2                       Sunseeker power boats            Flybridge   \n",
       "3                        Princess power boats              Trawler   \n",
       "4                         Sea Ray power boats           Pilothouse   \n",
       "5                         Cranchi power boats           Cabin Boat   \n",
       "6                          Azimut power boats              Hardtop   \n",
       "7                         Bavaria power boats  Center console boat   \n",
       "8                        Fairline power boats             Bowrider   \n",
       "9  Quicksilver (Brunswick Marine) power boats            Deck Boat   \n",
       "\n",
       "                           Type             Material Country of Location  \n",
       "0              Used boat,Diesel                  GRP             Germany  \n",
       "1            Used boat,Unleaded                  PVC               Italy  \n",
       "2                     Used boat                Steel              France  \n",
       "3  new boat from stock,Unleaded                 Wood         Switzerland  \n",
       "4           new boat from stock            Aluminium         Netherlands  \n",
       "5    new boat from stock,Diesel              Plastic  Croatia (Hrvatska)  \n",
       "6    new boat on order,Unleaded         Carbon Fiber               Spain  \n",
       "7        Display Model,Unleaded        Thermoplastic      United Kingdom  \n",
       "8             new boat on order              Hypalon             Denmark  \n",
       "9      new boat on order,Diesel  Reinforced concrete            Portugal  "
      ]
     },
     "execution_count": 147,
     "metadata": {},
     "output_type": "execute_result"
    }
   ],
   "source": [
    "top_10_searched_df"
   ]
  },
  {
   "cell_type": "code",
   "execution_count": 177,
   "metadata": {
    "ExecuteTime": {
     "end_time": "2022-05-06T17:56:03.316377Z",
     "start_time": "2022-05-06T17:56:03.258316Z"
    }
   },
   "outputs": [],
   "source": [
    "df_top_searched_in_terms_of_all_criteria = df[(df.Manufacturer.isin(top_10_searched_df.Manufacturer)) & (df['Boat Type'].isin(top_10_searched_df['Boat Type'])) & (df.Type.isin(top_10_searched_df.Type)) & (df.Material.isin(top_10_searched_df.Material)) & (df['location_country'].isin(top_10_searched_df['Country of Location']))]\n",
    "percentage_all_criteria = (1-(df['Number of views last 7 days'].sum()-df_top_searched_in_terms_of_all_criteria['Number of views last 7 days'].sum())/df['Number of views last 7 days'].sum())*100\n",
    "\n",
    "df_top_searched_in_terms_of_manufacturer_boat_type_material = df[(df.Manufacturer.isin(top_10_searched_df.Manufacturer)) & (df['Boat Type'].isin(top_10_searched_df['Boat Type'])) & (df.Type.isin(top_10_searched_df.Type)) & (df.Material.isin(top_10_searched_df.Material))]\n",
    "percentage_manufacturer_boat_type_material = (1-(df['Number of views last 7 days'].sum()-df_top_searched_in_terms_of_manufacturer_boat_type_material['Number of views last 7 days'].sum())/df['Number of views last 7 days'].sum())*100\n",
    "\n",
    "df_top_searched_in_terms_of_manufacturer_boat_type =df[(df.Manufacturer.isin(top_10_searched_df.Manufacturer)) & (df['Boat Type'].isin(top_10_searched_df['Boat Type'])) & (df.Type.isin(top_10_searched_df.Type))]\n",
    "percentage_manufacturer_boat_type = (1-(df['Number of views last 7 days'].sum()-df_top_searched_in_terms_of_manufacturer_boat_type['Number of views last 7 days'].sum())/df['Number of views last 7 days'].sum())*100\n",
    "\n",
    "df_top_searched_in_terms_of_manufacturer_boat = df[(df.Manufacturer.isin(top_10_searched_df.Manufacturer)) & (df['Boat Type'].isin(top_10_searched_df['Boat Type']))]\n",
    "percentage_manufacturer_boat = (1-(df['Number of views last 7 days'].sum()-df_top_searched_in_terms_of_manufacturer_boat['Number of views last 7 days'].sum())/df['Number of views last 7 days'].sum())*100\n",
    "\n",
    "df_top_searched_in_terms_of_manufacturer = df[(df.Manufacturer.isin(top_10_searched_df.Manufacturer))]\n",
    "percentage_manufacturer = (1-(df['Number of views last 7 days'].sum()-df_top_searched_in_terms_of_manufacturer['Number of views last 7 days'].sum())/df['Number of views last 7 days'].sum())*100\n",
    "\n",
    "df_top_searched_in_terms_of_boat = df[(df['Boat Type'].isin(top_10_searched_df['Boat Type']))]\n",
    "percentage_boat = (1-(df['Number of views last 7 days'].sum()-df_top_searched_in_terms_of_boat['Number of views last 7 days'].sum())/df['Number of views last 7 days'].sum())*100\n",
    "\n",
    "df_top_searched_in_terms_of_type = df[(df['Type'].isin(top_10_searched_df['Type']))]\n",
    "percentage_type = (1-(df['Number of views last 7 days'].sum()-df_top_searched_in_terms_of_type['Number of views last 7 days'].sum())/df['Number of views last 7 days'].sum())*100\n",
    "\n",
    "df_top_searched_in_terms_of_material = df[(df['Material'].isin(top_10_searched_df['Material']))]\n",
    "percentage_material = (1-(df['Number of views last 7 days'].sum()-df_top_searched_in_terms_of_material['Number of views last 7 days'].sum())/df['Number of views last 7 days'].sum())*100\n",
    "\n",
    "df_top_searched_in_terms_of_location = df[(df['location_country'].isin(top_10_searched_df['Country of Location']))]\n",
    "percentage_location = (1-(df['Number of views last 7 days'].sum()-df_top_searched_in_terms_of_location['Number of views last 7 days'].sum())/df['Number of views last 7 days'].sum())*100"
   ]
  },
  {
   "cell_type": "code",
   "execution_count": 176,
   "metadata": {
    "ExecuteTime": {
     "end_time": "2022-05-06T17:55:37.262755Z",
     "start_time": "2022-05-06T17:55:37.250323Z"
    }
   },
   "outputs": [
    {
     "data": {
      "text/html": [
       "<div>\n",
       "<style scoped>\n",
       "    .dataframe tbody tr th:only-of-type {\n",
       "        vertical-align: middle;\n",
       "    }\n",
       "\n",
       "    .dataframe tbody tr th {\n",
       "        vertical-align: top;\n",
       "    }\n",
       "\n",
       "    .dataframe thead th {\n",
       "        text-align: right;\n",
       "    }\n",
       "</style>\n",
       "<table border=\"1\" class=\"dataframe\">\n",
       "  <thead>\n",
       "    <tr style=\"text-align: right;\">\n",
       "      <th></th>\n",
       "      <th>Criteria</th>\n",
       "      <th>Percentage</th>\n",
       "    </tr>\n",
       "  </thead>\n",
       "  <tbody>\n",
       "    <tr>\n",
       "      <th>0</th>\n",
       "      <td>Including All Criteria</td>\n",
       "      <td>18.158020</td>\n",
       "    </tr>\n",
       "    <tr>\n",
       "      <th>1</th>\n",
       "      <td>Including Manufaturer, Boat Type, Type and Mat...</td>\n",
       "      <td>20.127642</td>\n",
       "    </tr>\n",
       "    <tr>\n",
       "      <th>2</th>\n",
       "      <td>Including Manufacturer, Boat Type, Type</td>\n",
       "      <td>23.993798</td>\n",
       "    </tr>\n",
       "    <tr>\n",
       "      <th>3</th>\n",
       "      <td>Including Manufacturer, Boat Type</td>\n",
       "      <td>24.222559</td>\n",
       "    </tr>\n",
       "    <tr>\n",
       "      <th>4</th>\n",
       "      <td>Only Manufacturer</td>\n",
       "      <td>25.899958</td>\n",
       "    </tr>\n",
       "    <tr>\n",
       "      <th>5</th>\n",
       "      <td>Only Boat Type</td>\n",
       "      <td>80.801029</td>\n",
       "    </tr>\n",
       "    <tr>\n",
       "      <th>6</th>\n",
       "      <td>Only Type</td>\n",
       "      <td>97.851383</td>\n",
       "    </tr>\n",
       "    <tr>\n",
       "      <th>7</th>\n",
       "      <td>Only Material</td>\n",
       "      <td>85.666234</td>\n",
       "    </tr>\n",
       "    <tr>\n",
       "      <th>8</th>\n",
       "      <td>Only Location</td>\n",
       "      <td>91.158328</td>\n",
       "    </tr>\n",
       "  </tbody>\n",
       "</table>\n",
       "</div>"
      ],
      "text/plain": [
       "                                            Criteria  Percentage\n",
       "0                             Including All Criteria   18.158020\n",
       "1  Including Manufaturer, Boat Type, Type and Mat...   20.127642\n",
       "2            Including Manufacturer, Boat Type, Type   23.993798\n",
       "3                  Including Manufacturer, Boat Type   24.222559\n",
       "4                                  Only Manufacturer   25.899958\n",
       "5                                     Only Boat Type   80.801029\n",
       "6                                          Only Type   97.851383\n",
       "7                                      Only Material   85.666234\n",
       "8                                      Only Location   91.158328"
      ]
     },
     "execution_count": 176,
     "metadata": {},
     "output_type": "execute_result"
    }
   ],
   "source": [
    "criteria_list = ['Including All Criteria','Including Manufaturer, Boat Type, Type and Material','Including Manufacturer, Boat Type, Type','Including Manufacturer, Boat Type','Only Manufacturer','Only Boat Type','Only Type','Only Material','Only Location']\n",
    "value_list = [percentage_all_criteria,percentage_manufacturer_boat_type_material,percentage_manufacturer_boat_type,percentage_manufacturer_boat,percentage_manufacturer,percentage_boat,percentage_type,percentage_material,percentage_location]\n",
    "percentage_dict = {\n",
    "    'Criteria' : criteria_list,\n",
    "    'Percentage': value_list}\n",
    "percentage_df = pd.DataFrame(percentage_dict)\n",
    "percentage_df"
   ]
  },
  {
   "cell_type": "code",
   "execution_count": 174,
   "metadata": {
    "ExecuteTime": {
     "end_time": "2022-05-06T17:53:45.867806Z",
     "start_time": "2022-05-06T17:53:45.652196Z"
    }
   },
   "outputs": [
    {
     "data": {
      "image/png": "[encoded data removed]",
      "text/plain": [
       "<Figure size 1080x576 with 1 Axes>"
      ]
     },
     "metadata": {
      "needs_background": "light"
     },
     "output_type": "display_data"
    }
   ],
   "source": [
    "fig = plt.figure()\n",
    "fig.set_size_inches([15,8])\n",
    "\n",
    "ax1=fig.add_subplot(111)\n",
    "sns.barplot(x='Criteria',\n",
    "            y='Percentage',\n",
    "            data = percentage_df)\n",
    "ax1.tick_params('x',rotation=90)"
   ]
  },
  {
   "cell_type": "code",
   "execution_count": null,
   "metadata": {},
   "outputs": [],
   "source": []
  }
 ],
 "metadata": {
  "kernelspec": {
   "display_name": "Python 3",
   "language": "python",
   "name": "python3"
  },
  "language_info": {
   "codemirror_mode": {
    "name": "ipython",
    "version": 3
   },
   "file_extension": ".py",
   "mimetype": "text/x-python",
   "name": "python",
   "nbconvert_exporter": "python",
   "pygments_lexer": "ipython3",
   "version": "3.8.5"
  },
  "toc": {
   "base_numbering": 1,
   "nav_menu": {},
   "number_sections": true,
   "sideBar": true,
   "skip_h1_title": false,
   "title_cell": "Table of Contents",
   "title_sidebar": "Contents",
   "toc_cell": false,
   "toc_position": {},
   "toc_section_display": true,
   "toc_window_display": false
  },
  "varInspector": {
   "cols": {
    "lenName": 16,
    "lenType": 16,
    "lenVar": 40
   },
   "kernels_config": {
    "python": {
     "delete_cmd_postfix": "",
     "delete_cmd_prefix": "del ",
     "library": "var_list.py",
     "varRefreshCmd": "print(var_dic_list())"
    },
    "r": {
     "delete_cmd_postfix": ") ",
     "delete_cmd_prefix": "rm(",
     "library": "var_list.r",
     "varRefreshCmd": "cat(var_dic_list()) "
    }
   },
   "types_to_exclude": [
    "module",
    "function",
    "builtin_function_or_method",
    "instance",
    "_Feature"
   ],
   "window_display": false
  }
 },
 "nbformat": 4,
 "nbformat_minor": 4
}
